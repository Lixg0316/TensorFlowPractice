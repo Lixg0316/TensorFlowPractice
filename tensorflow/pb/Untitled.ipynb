{
 "cells": [
  {
   "cell_type": "markdown",
   "metadata": {},
   "source": [
    "# Chapter1 TensorFlow编程基础"
   ]
  },
  {
   "cell_type": "markdown",
   "metadata": {},
   "source": [
    "# #Tensor\n",
    "\n",
    "tensor保存的是计算过程"
   ]
  },
  {
   "cell_type": "code",
   "execution_count": 2,
   "metadata": {},
   "outputs": [
    {
     "name": "stdout",
     "output_type": "stream",
     "text": [
      "b'Hello, World!'\n"
     ]
    }
   ],
   "source": [
    "import tensorflow as tf\n",
    "\n",
    "#创建一个常量运算，将作为一个节点加入到默认的计算图中\n",
    "hello = tf.constant(\"Hello, World!\")\n",
    "\n",
    "#创建一个TF对话\n",
    "sess = tf.Session()\n",
    "\n",
    "#运行并获得结果\n",
    "print(sess.run(hello))"
   ]
  },
  {
   "cell_type": "markdown",
   "metadata": {},
   "source": [
    "\n",
    "输出前面的‘b'表示Bytes literals（字节文字）\n"
   ]
  },
  {
   "cell_type": "code",
   "execution_count": 10,
   "metadata": {},
   "outputs": [
    {
     "name": "stdout",
     "output_type": "stream",
     "text": [
      "Tensor(\"Add_5:0\", shape=(), dtype=float32)\n",
      "Output sess.run(node3): 7.0\n"
     ]
    }
   ],
   "source": [
    "#一个简单的计算图\n",
    "import tensorflow as tf\n",
    "node1 = tf.constant(3.0,tf.float32,name=\"node1\")\n",
    "node2 = tf.constant(4.0,tf.float32,name=\"node2\")\n",
    "node3 = tf.add(node1,node2)\n",
    "print(node3)\n",
    "sess = tf.Session()\n",
    "print(\"Output sess.run(node3):\",sess.run(node3))\n",
    "#输出的结果不是一个具体数字而是一个而是一个张量结构"
   ]
  },
  {
   "cell_type": "code",
   "execution_count": 11,
   "metadata": {},
   "outputs": [
    {
     "name": "stdout",
     "output_type": "stream",
     "text": [
      "Tensor(\"node1_5:0\", shape=(), dtype=float32)\n"
     ]
    },
    {
     "data": {
      "text/plain": [
       "<bound method BaseSession.close of <tensorflow.python.client.session.Session object at 0x000001D32358FCC0>>"
      ]
     },
     "execution_count": 11,
     "metadata": {},
     "output_type": "execute_result"
    }
   ],
   "source": [
    "print(node1)\n",
    "sess.close"
   ]
  },
  {
   "cell_type": "code",
   "execution_count": 12,
   "metadata": {},
   "outputs": [
    {
     "name": "stdout",
     "output_type": "stream",
     "text": [
      "Tensor(\"Add_5:0\", shape=(), dtype=float32)\n"
     ]
    }
   ],
   "source": [
    "print(node3)"
   ]
  },
  {
   "cell_type": "markdown",
   "metadata": {},
   "source": [
    "创建计算图，执行对话才能提供数据并获得结果"
   ]
  },
  {
   "cell_type": "code",
   "execution_count": 1,
   "metadata": {},
   "outputs": [
    {
     "name": "stdout",
     "output_type": "stream",
     "text": [
      "()\n",
      "(5,)\n",
      "(2, 3)\n",
      "(3, 3, 1)\n"
     ]
    }
   ],
   "source": [
    "import tensorflow as tf\n",
    "\n",
    "scalar = tf.constant(100)\n",
    "vector = tf.constant([1, 2, 3, 4, 5])\n",
    "matrix = tf.constant([[1, 2, 3],[4, 5, 6]])\n",
    "cube_matrix = tf.constant([[[1],[2],[3]],[[4],[5],[6],],[[7],[8],[9]]])\n",
    "\n",
    "print(scalar.get_shape())\n",
    "print(vector.get_shape())\n",
    "print(matrix.get_shape())\n",
    "print(cube_matrix.get_shape())"
   ]
  },
  {
   "cell_type": "markdown",
   "metadata": {},
   "source": [
    "张量的下标从0开始，TensorFlow会对参与运算的所有张量进行类型检查，发现类型不匹配时会报错！！\n",
    "name 最好选上，可视化时会自动显示name"
   ]
  },
  {
   "cell_type": "markdown",
   "metadata": {},
   "source": [
    "## Operation"
   ]
  },
  {
   "cell_type": "markdown",
   "metadata": {},
   "source": [
    "计算图中的节点就是操作（operation）\n",
    "1.都有时属性，可以指定计算设备，操作之间存在顺序关系"
   ]
  },
  {
   "cell_type": "code",
   "execution_count": null,
   "metadata": {},
   "outputs": [],
   "source": [
    "import tensorflow as tf\n",
    "\n"
   ]
  },
  {
   "cell_type": "markdown",
   "metadata": {},
   "source": [
    "## Session\n",
    "\n",
    "会话拥有并管理tf运行时的所有资源，计算完成时需关闭会话帮助系统回收资源"
   ]
  },
  {
   "cell_type": "code",
   "execution_count": 2,
   "metadata": {},
   "outputs": [
    {
     "name": "stdout",
     "output_type": "stream",
     "text": [
      "[1 2 3]\n"
     ]
    }
   ],
   "source": [
    "#创建会话1\n",
    "#定义计算图\n",
    "\n",
    "import tensorflow as tf\n",
    "\n",
    "tens1 = tf.constant([1,2,3])\n",
    "\n",
    "#创建一个会话\n",
    "sess = tf.Session()\n",
    "print(sess.run(tens1))\n",
    "\n",
    "#关闭会话使得资源释放\n",
    "sess.close()\n"
   ]
  },
  {
   "cell_type": "code",
   "execution_count": 13,
   "metadata": {},
   "outputs": [
    {
     "name": "stdout",
     "output_type": "stream",
     "text": [
      "13.0\n"
     ]
    }
   ],
   "source": [
    "###创建会话2\n",
    "\n",
    "import tensorflow as tf\n",
    "\n",
    "#定义计算图\n",
    "node1 = tf.constant(5.0,tf.float32,name=\"node1\")\n",
    "node2 = tf.constant(8.0,tf.float32,name=\"node2\")\n",
    "result = tf.add(node1,node2,name=\"result\")\n",
    " \n",
    "#创建一个会话，并通过python中的上下文管理器来管理这个会话\n",
    "with tf.Session() as sess:\n",
    "    #使用这个创建好的会话来计算关系的结果\n",
    "    print(sess.run(result))\n",
    "\n",
    "# 不需要再调用Session.close()函数来关闭会话，当上下文退出时会话关闭，资源自动释放\n"
   ]
  },
  {
   "cell_type": "code",
   "execution_count": 14,
   "metadata": {},
   "outputs": [
    {
     "name": "stdout",
     "output_type": "stream",
     "text": [
      "13.0\n"
     ]
    }
   ],
   "source": [
    "###创建默认会话\n",
    "\n",
    "import tensorflow as tf\n",
    "\n",
    "#定义计算图\n",
    "\n",
    "\n",
    "\n",
    "sess = tf.Session()\n",
    "\n",
    "#把sess定义为默认会话\n",
    "with sess.as_default():\n",
    "    print(result.eval())"
   ]
  },
  {
   "cell_type": "code",
   "execution_count": 18,
   "metadata": {},
   "outputs": [
    {
     "name": "stdout",
     "output_type": "stream",
     "text": [
      "13.0\n",
      "13.0\n"
     ]
    }
   ],
   "source": [
    "sess = tf.Session()\n",
    "\n",
    "#下面两个命令具有相同的功能\n",
    "print(sess.run(result))\n",
    "\n",
    "print(result.eval(session=sess))"
   ]
  },
  {
   "cell_type": "code",
   "execution_count": 21,
   "metadata": {},
   "outputs": [
    {
     "name": "stdout",
     "output_type": "stream",
     "text": [
      "13.0\n"
     ]
    }
   ],
   "source": [
    "#tf.InteractiveSession()函数将生成的会话自动注册为默认的会话\n",
    "\n",
    "sess = tf.InteractiveSession()\n",
    "\n",
    "print(result.eval())\n",
    "sess.close()"
   ]
  },
  {
   "cell_type": "markdown",
   "metadata": {},
   "source": [
    "## 常量(constant)与变量(variable)\n",
    "\n",
    "1.constant：\n",
    "在运行过程中不会改变的单元，在TF中无须进行初始化的操作\n",
    "创建语句：\n",
    "constant_name = tf.constant(value),其中type，name可缺省\n",
    "\n",
    "2.variable：\n",
    "在运行过程中值会改变的单元，在TF中需要进行初始化的操作\n",
    "创建语句：\n",
    "name_variable = tf.Variable(value,name)    type可缺省，V大写\n",
    "\n",
    "个别变量初始化：\n",
    "init_op = name_variable.initializer()\n",
    "\n",
    "所有变量初始化：\n",
    "init_op = tf.global_variables_initializer()\n",
    "\n"
   ]
  },
  {
   "cell_type": "code",
   "execution_count": 4,
   "metadata": {},
   "outputs": [
    {
     "name": "stdout",
     "output_type": "stream",
     "text": [
      "8.0\n"
     ]
    }
   ],
   "source": [
    "import tensorflow as tf\n",
    "node1 = tf.Variable(3.0,tf.float32,name=\"node1\")\n",
    "node2 = tf.Variable(5.0,tf.float32,name=\"node2\")\n",
    "result = tf.add(node1,node2,name=\"add\")\n",
    "sess = tf.Session()\n",
    "\n",
    "#变量初始化\n",
    "init = tf.global_variables_initializer()\n",
    "#以上定义只是有四个节点的静态图，初始化操作没有执行。需要执行sess。run函数才能\n",
    "#so，下一行必不可少\n",
    "sess.run(init)\n",
    "\n",
    "print(sess.run(result))"
   ]
  },
  {
   "cell_type": "markdown",
   "metadata": {},
   "source": [
    "### 变量赋值\n",
    "\n",
    "TF中的变量定义后，一般不需人工赋值，系统会根据算法模型，训练优化过程中自动调整变量对应的数值\n",
    "\n",
    "1.不希望训练模型自动更改变量：\n",
    "    \n",
    "    epoch = tf.Variable(0,name=\"epoch\",trainable=Flase)\n",
    "\n",
    "2.特殊情况需要人工更新\n",
    "变量更新语句：\n",
    "   \n",
    "    update_op = tf.assign(variable_to_be_updated,new_value)"
   ]
  },
  {
   "cell_type": "code",
   "execution_count": 45,
   "metadata": {},
   "outputs": [
    {
     "name": "stdout",
     "output_type": "stream",
     "text": [
      "1\n",
      "2\n",
      "3\n",
      "4\n",
      "5\n",
      "6\n",
      "7\n",
      "8\n",
      "9\n",
      "10\n"
     ]
    }
   ],
   "source": [
    "#通过变量赋值输出1，2，3...10\n",
    "\n",
    "import tensorflow as tf\n",
    "\n",
    "value = tf.Variable(0,name=\"value\")\n",
    "one = tf.constant(1,name=\"one\")\n",
    "new_value = tf.add(value,one)\n",
    "\n",
    "update_value = tf.assign(value,new_value)   \n",
    "#update_value是一个操作，不是一个值，操作结果是把value的改变成了new_vlaue\n",
    "\n",
    "\n",
    "init = tf.global_variables_initializer()\n",
    "\n",
    "with tf.Session() as sess:\n",
    "    sess.run(init)\n",
    "    for _ in range(10):\n",
    "        sess.run(update_value)\n",
    "        print(sess.run(value))\n",
    "       "
   ]
  },
  {
   "cell_type": "code",
   "execution_count": 52,
   "metadata": {},
   "outputs": [
    {
     "name": "stdout",
     "output_type": "stream",
     "text": [
      "55\n"
     ]
    }
   ],
   "source": [
    "#计算1+2+3...+10\n",
    "\n",
    "#通过变量赋值输出1，2，3...10\n",
    "\n",
    "import tensorflow as tf\n",
    "\n",
    "value = tf.Variable(0,name=\"value\")\n",
    "one = tf.constant(1,name=\"one\")\n",
    "sun = tf.Variable(0)\n",
    "new_value = tf.add(value,one)\n",
    "update_value = tf.assign(value,new_value)  \n",
    "new_sun = tf.add(sun,value)\n",
    "update_sun = tf.assign(sun,new_sun)\n",
    " \n",
    "#update_value是一个操作，不是一个值，操作结果是把value的改变成了new_vlaue\n",
    "\n",
    "\n",
    "init = tf.global_variables_initializer()\n",
    "\n",
    "with tf.Session() as sess:\n",
    "    sess.run(init)\n",
    "    for _ in range(10):\n",
    "        sess.run(update_value)\n",
    "        sess.run(update_sun)\n",
    "    print(sess.run(sun))\n",
    "       "
   ]
  },
  {
   "cell_type": "markdown",
   "metadata": {},
   "source": [
    "### 占位符 placeholder\n",
    "\n",
    "有些variable定义时并不知道其数值，只有真正开始运行程序时才有外部输入，这时需要用到占位符\n",
    "\n",
    "1.tf.placeholder ,是TF中特有的一种数据结构，类似动态变量，函数的参数或者Python中格式化输出时的%\n",
    "\n",
    "placeholder的函数接口：\n",
    "\n",
    "tf.placeholder(dtype,shape,name)\n",
    "\n",
    "ex:x = tf.placeholder(tf.float32,[2,3],name=\"tx\")\n",
    "生成一个2*3二维数组，名为tx\n",
    "\n",
    "2.feed提交数据和fetch提取数据\n",
    "\n",
    "placeholder占用的变量必须通过“feed_dict={a:10，b:20}”参数传递进去\n",
    "placeholder不需要初始化的操作，多个操作可以用一次feed来填充\n",
    "\n",
    "3.\n",
    "\n"
   ]
  },
  {
   "cell_type": "code",
   "execution_count": 55,
   "metadata": {},
   "outputs": [
    {
     "name": "stdout",
     "output_type": "stream",
     "text": [
      "459.0\n"
     ]
    }
   ],
   "source": [
    "#占位符placeholder，feed的使用\n",
    "\n",
    "import tensorflow as tf\n",
    "a = tf.placeholder(tf.float32,name=\"a\")\n",
    "b = tf.placeholder(tf.float32,name=\"b\")\n",
    "c = tf.multiply(a,b,name=\"c\")\n",
    "\n",
    "#init = tf.global_variables_initializer()   #placeholder可以不需要初始化操作\n",
    "\n",
    "with tf.Session() as sess:\n",
    "    #sess.run(init)\n",
    "    #通过feed_dict的参数传值，按字典格式\n",
    "    result = sess.run(c,feed_dict={a:51,b:9})\n",
    "    print(result)"
   ]
  },
  {
   "cell_type": "markdown",
   "metadata": {},
   "source": [
    "### TensorBoard 可视化初步\n",
    "\n",
    "1.通过TensorFlow程序运行过程中输出的日志文件可视化TensorFlow程序运行状态\n",
    "\n",
    "2.两者跑在不同的进程中\n",
    "\n",
    "3.启动tensorboard步骤：\n",
    "\n",
    "在anaconda prompt中先进入日志存放的目录，在运行tensorboard，并将日志的地址指向程序日至输出的地址\n",
    "命令：tensorboard --logdir=path"
   ]
  },
  {
   "cell_type": "code",
   "execution_count": 1,
   "metadata": {},
   "outputs": [],
   "source": [
    "import tensorflow as tf\n",
    "\n",
    "#消除dafault_graph和不断增加的节点\n",
    "tf.reset_default_graph()\n",
    "\n",
    "#logdir改为合适路径\n",
    "logdir='F:/Jupyter/tensorflow/pb/log'\n",
    "\n",
    "input1 = tf.constant([1.0,2.0,3.0],name=\"input1\")\n",
    "input2 = tf.Variable(tf.random_uniform([3]),name=\"input2\")\n",
    "output = tf.add_n([input1,input2],name=\"add\")\n",
    "\n",
    "#生成一个写日志的writer，并将当前的TensorFlow计算图写入日志\n",
    "writer = tf.summary.FileWriter(logdir,tf.get_default_graph())\n",
    "writer.close()"
   ]
  }
 ],
 "metadata": {
  "kernelspec": {
   "display_name": "Python 3",
   "language": "python",
   "name": "python3"
  },
  "language_info": {
   "codemirror_mode": {
    "name": "ipython",
    "version": 3
   },
   "file_extension": ".py",
   "mimetype": "text/x-python",
   "name": "python",
   "nbconvert_exporter": "python",
   "pygments_lexer": "ipython3",
   "version": "3.6.5"
  }
 },
 "nbformat": 4,
 "nbformat_minor": 2
}
