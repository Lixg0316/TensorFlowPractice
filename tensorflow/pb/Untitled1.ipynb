{
 "cells": [
  {
   "cell_type": "code",
   "execution_count": 15,
   "metadata": {},
   "outputs": [
    {
     "data": {
      "text/plain": [
       "<tensorflow.python.framework.ops.Graph at 0x2251786c470>"
      ]
     },
     "execution_count": 15,
     "metadata": {},
     "output_type": "execute_result"
    }
   ],
   "source": [
    "import tensorflow as tf\n",
    "tf.__version__\n",
    "a=tf.constant([1.0,2.0])\n",
    "b=tf.constant([2.0,3.0])\n",
    "result = a + b\n",
    "a.graph"
   ]
  },
  {
   "cell_type": "code",
   "execution_count": null,
   "metadata": {},
   "outputs": [],
   "source": [
    "import tensorflow as tf\n",
    "g1 = tf.Graph()\n",
    "with g1.as_default():\n",
    "    #在计算图g1中定义变量“v”，并设置初始值为0\n",
    "    v = tf.get_variable(\n",
    "    \"v\", shape[1], initializer=tf.zeros_initializer)\n",
    "    \n",
    "g2 = tf.Graph()\n",
    "with g2.as_default():\n",
    "    #在计算图g2中定义变量“v”，并设置初始值为1\n",
    "    v = tf.get_variable(\n",
    "    \"v\", shape=[1], initializer=tf.ones_initializer)\n",
    "\n",
    "#在计算图g1中读取变量“v”的取值\n",
    "with tf.Session(graph=g1) as sess:\n",
    "    tf.global_variables_initializer()_run()"
   ]
  }
 ],
 "metadata": {
  "kernelspec": {
   "display_name": "Python 3",
   "language": "python",
   "name": "python3"
  },
  "language_info": {
   "codemirror_mode": {
    "name": "ipython",
    "version": 3
   },
   "file_extension": ".py",
   "mimetype": "text/x-python",
   "name": "python",
   "nbconvert_exporter": "python",
   "pygments_lexer": "ipython3",
   "version": "3.6.5"
  }
 },
 "nbformat": 4,
 "nbformat_minor": 2
}
