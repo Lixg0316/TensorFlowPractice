{
 "cells": [
  {
   "cell_type": "markdown",
   "metadata": {},
   "source": [
    "# Chapter 2 linear regression with onevariable"
   ]
  },
  {
   "cell_type": "code",
   "execution_count": 1,
   "metadata": {},
   "outputs": [],
   "source": [
    "###人工数据集生成\n",
    "\n",
    "#要学习的函数为y=2x+1\n",
    "#在Jupyter中，使用matplotlib显示图像需要设置为inline模式，否则不会显示图像\n",
    "\n",
    "%matplotlib inline\n",
    "\n",
    "import matplotlib.pyplot as plt #载入matplotlib\n",
    "import numpy as np #载入numpy\n",
    "import tensorflow as tf \n",
    "\n",
    "#设置随机数种子\n",
    "np.random.seed(5)\n"
   ]
  },
  {
   "cell_type": "markdown",
   "metadata": {},
   "source": [
    "### "
   ]
  },
  {
   "cell_type": "markdown",
   "metadata": {},
   "source": [
    "### 首先，生成输入数据\n",
    "需要构造满足这个函数的x和y，同时加入一些不满足方程的噪声\n",
    "\n",
    "注释方法1：选中要注释的代码，ctrl+/\n",
    "\n",
    "注释方法2：在要注释的代码前后分别加三个'"
   ]
  },
  {
   "cell_type": "code",
   "execution_count": 2,
   "metadata": {},
   "outputs": [],
   "source": [
    "#直接采用np生成等差数列的方法，生成100个点，每个点的取值在-1，1之间\n",
    "\n",
    "x_data = np.linspace(-1,1,100)\n",
    "\n",
    "#y=2x+1+噪声，其中，噪声的维度和x_data的维度一致\n",
    "y_data = 2 * x_data + 1.0 + np.random.randn(*x_data.shape) * 0.4\n"
   ]
  },
  {
   "cell_type": "code",
   "execution_count": 3,
   "metadata": {},
   "outputs": [],
   "source": [
    "#numpy.random.randn(d0,d1,...dn)是从标准正态分布中返回i一个或多个样本值\n",
    "\n",
    "random = np.random.randn(10)\n",
    "# mean = np.mean(random) #numpy中计算均值的函数\n",
    "# print(mean)\n",
    "# variance = np.std(random)**2  #numpy中计算标准差的函数\n",
    "# print(variance)"
   ]
  },
  {
   "cell_type": "code",
   "execution_count": 4,
   "metadata": {},
   "outputs": [
    {
     "data": {
      "text/plain": [
       "(100,)"
      ]
     },
     "execution_count": 4,
     "metadata": {},
     "output_type": "execute_result"
    }
   ],
   "source": [
    "#x_data.shape值为一个元组\n",
    "\n",
    "x_data.shape"
   ]
  },
  {
   "cell_type": "code",
   "execution_count": 5,
   "metadata": {},
   "outputs": [
    {
     "data": {
      "text/plain": [
       "array([ 0.04595522, -0.48713265,  0.81613236, -0.28143012, -2.33562182,\n",
       "       -1.16727845,  0.45765807,  2.23796561, -1.4812592 , -0.01694532,\n",
       "        1.45073354,  0.60687032, -0.37562084, -1.42192455, -1.7811513 ,\n",
       "       -0.74790579, -0.36840953, -2.24911813, -1.69367504,  0.30364847,\n",
       "       -0.40899234, -0.75483059, -0.40751917, -0.81262476,  0.92751621,\n",
       "        1.63995407,  2.07361553,  0.70979786,  0.74715259,  1.46309548,\n",
       "        1.73844881,  1.46520488,  1.21228341, -0.6346525 , -1.5996985 ,\n",
       "        0.87715281, -0.09383245, -0.05567103, -0.88942073, -1.30095145,\n",
       "        1.40216662,  0.46510099, -1.06503262,  0.39042061,  0.30560017,\n",
       "        0.52184949,  2.23327081, -0.0347021 , -1.27962318,  0.03654264,\n",
       "       -0.64635659,  0.54856784,  0.21054246,  0.34650175, -0.56705117,\n",
       "        0.41367881, -0.51025606,  0.51725935, -0.30100513, -1.11840643,\n",
       "        0.49852362, -0.70609387,  1.4438811 ,  0.44295626,  0.46770521,\n",
       "        0.10134479, -0.05935198, -2.38669774,  1.22217056, -0.81391201,\n",
       "        0.95626186, -0.63851056, -0.14312642, -0.22418983, -1.03849524,\n",
       "       -0.17170905,  0.47634618, -0.41417827, -1.26408334, -0.57321556,\n",
       "        0.24981732,  1.14720208,  0.83594396,  0.28740365, -0.9955963 ,\n",
       "        0.90688947,  0.02421074, -0.23998173,  0.91011056,  0.61784475,\n",
       "        0.49961804, -1.15154425, -0.6105164 , -1.70388541,  0.19443738,\n",
       "        0.02824125,  0.93256051,  0.21204332, -0.36794457,  2.1114884 ])"
      ]
     },
     "execution_count": 5,
     "metadata": {},
     "output_type": "execute_result"
    }
   ],
   "source": [
    "#实参的前面加上*和**时，就意味着拆包。单个*表示将元组拆成一个个单独的实参\n",
    "\n",
    "np.random.randn(*x_data.shape)"
   ]
  },
  {
   "cell_type": "markdown",
   "metadata": {},
   "source": [
    "### 利用matplotlib画出生成结果 "
   ]
  },
  {
   "cell_type": "code",
   "execution_count": 6,
   "metadata": {},
   "outputs": [
    {
     "data": {
      "text/plain": [
       "[<matplotlib.lines.Line2D at 0x1fb3e525860>]"
      ]
     },
     "execution_count": 6,
     "metadata": {},
     "output_type": "execute_result"
    },
    {
     "data": {
      "image/png": "[encoded data removed]",
      "text/plain": [
       "<Figure size 432x288 with 1 Axes>"
      ]
     },
     "metadata": {},
     "output_type": "display_data"
    }
   ],
   "source": [
    "#画出随机生成的数据散点图\n",
    "plt.scatter(x_data,y_data)\n",
    "\n",
    "#画出目标线性函数y=2x+1\n",
    "\n",
    "plt.plot(x_data,2 * x_data + 1.0,color = 'red',linewidth = 3)"
   ]
  },
  {
   "cell_type": "markdown",
   "metadata": {},
   "source": [
    "### 构建模型 "
   ]
  },
  {
   "cell_type": "code",
   "execution_count": 7,
   "metadata": {},
   "outputs": [],
   "source": [
    "#定义训练数据占位符，x是特征值，y是标签值\n",
    "\n",
    "x = tf.placeholder(\"float\", name = \"x\")\n",
    "y = tf.placeholder(\"float\", name = \"y\")\n",
    "\n",
    "#定义回归模型函数\n",
    "#构建线性函数的斜率，变量w\n",
    "w = tf.Variable(1.0,name = \"w0\")\n",
    "\n",
    "#构建线性函数的截距，变量b\n",
    "b = tf.Variable(0.0,name = \"b0\")\n",
    "\n",
    "\n",
    "def model(x, w, b):\n",
    "    return tf.multiply(x, w) + b   #multiply(x ,y)表示x*y\n",
    "\n",
    "\n",
    "#predict是预测值，前向计算\n",
    "predict = model(x, w, b)"
   ]
  },
  {
   "cell_type": "markdown",
   "metadata": {},
   "source": [
    "### 训练模型 "
   ]
  },
  {
   "cell_type": "code",
   "execution_count": 8,
   "metadata": {},
   "outputs": [],
   "source": [
    "# 迭代次数（训练轮数）\n",
    "train_epochs = 10\n",
    "\n",
    "#学习率,一般是经验值\n",
    "learning_rate = 0.05\n",
    "\n",
    "###定义损失函数\n",
    "#采用均方差作为损失函数\n",
    "\n",
    "loss_function = tf.reduce_mean(tf.square(y-predict))\n",
    "\n",
    "###定义优化器\n",
    "#初始化一个GradientDescentOptimizer\n",
    "#设置学习率和优化目标：最小化损失\n",
    "\n",
    "#梯度下降优化器\n",
    "optimizer = tf.train.GradientDescentOptimizer(learning_rate).minimize(loss_function)\n"
   ]
  },
  {
   "cell_type": "markdown",
   "metadata": {},
   "source": [
    "### 创建会话\n"
   ]
  },
  {
   "cell_type": "code",
   "execution_count": 9,
   "metadata": {},
   "outputs": [],
   "source": [
    "#声明会话\n",
    "sess = tf.Session()\n",
    "\n",
    "#变量初始化并运行\n",
    "init = tf.global_variables_initializer()\n",
    "sess.run(init)"
   ]
  },
  {
   "cell_type": "markdown",
   "metadata": {},
   "source": [
    "### 迭代训练\n",
    "\n",
    "模型训练阶段，设置迭代轮次，每次通过将样本逐个输入模型，进行梯度下降优化操作，每轮迭代后，绘制出模型"
   ]
  },
  {
   "cell_type": "code",
   "execution_count": 10,
   "metadata": {},
   "outputs": [
    {
     "name": "stdout",
     "output_type": "stream",
     "text": [
      "1.9822965\n",
      "1.0420128\n"
     ]
    },
    {
     "data": {
      "image/png": "[encoded data removed]",
      "text/plain": [
       "<Figure size 432x288 with 1 Axes>"
      ]
     },
     "metadata": {},
     "output_type": "display_data"
    }
   ],
   "source": [
    "#开始训练，轮数为epoch，采用SGD随机梯度下降优化方法\n",
    "\n",
    "for epoch in range(train_epochs):\n",
    "    for xs,ys in zip(x_data, y_data):\n",
    "        _,loss=sess.run([optimizer,loss_function], feed_dict={x: xs, y: ys})  #将xs，ys填充到占位符中\n",
    "    b0temp=b.eval(session=sess)\n",
    "    w0temp=w.eval(session=sess)\n",
    "    plt.plot(x_data, w0temp * x_data + b0temp )\n",
    "print(sess.run(w))\n",
    "print(sess.run(b))\n",
    "\n"
   ]
  },
  {
   "cell_type": "markdown",
   "metadata": {},
   "source": [
    "## 利用模型  进行预测"
   ]
  },
  {
   "cell_type": "code",
   "execution_count": 22,
   "metadata": {},
   "outputs": [
    {
     "name": "stdout",
     "output_type": "stream",
     "text": [
      "预测值： 7.4051843\n",
      "实际值： 7.42\n"
     ]
    }
   ],
   "source": [
    "x_test = 3.21\n",
    "\n",
    "prediction = sess.run(predict, feed_dict={x: x_test})\n",
    "print(\"预测值：\",prediction)\n",
    "\n",
    "target = 2*x_test + 1.0\n",
    "print(\"实际值：\",target)"
   ]
  },
  {
   "cell_type": "markdown",
   "metadata": {},
   "source": [
    "## 显示损失值 "
   ]
  },
  {
   "cell_type": "code",
   "execution_count": null,
   "metadata": {},
   "outputs": [],
   "source": []
  }
 ],
 "metadata": {
  "kernelspec": {
   "display_name": "Python 3",
   "language": "python",
   "name": "python3"
  },
  "language_info": {
   "codemirror_mode": {
    "name": "ipython",
    "version": 3
   },
   "file_extension": ".py",
   "mimetype": "text/x-python",
   "name": "python",
   "nbconvert_exporter": "python",
   "pygments_lexer": "ipython3",
   "version": "3.6.5"
  }
 },
 "nbformat": 4,
 "nbformat_minor": 2
}
