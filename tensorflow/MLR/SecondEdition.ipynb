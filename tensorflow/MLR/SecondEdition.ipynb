{
 "cells": [
  {
   "cell_type": "markdown",
   "metadata": {},
   "source": [
    "# Chapter 3 Multiple Linear Regression\n",
    "\n",
    "edition 2\n",
    "特征数据归一化\n",
    "多元线性回归"
   ]
  },
  {
   "cell_type": "markdown",
   "metadata": {},
   "source": [
    "## 导入相关库 "
   ]
  },
  {
   "cell_type": "code",
   "execution_count": null,
   "metadata": {},
   "outputs": [],
   "source": [
    "###Boston房价预测模型\n",
    "#导入模块\n",
    "\n",
    "%matplotlib notebook \n",
    "import tensorflow as tf \n",
    "import pandas as pd \n",
    "import numpy as np\n",
    "from sklearn.utils import shuffle\n",
    "import matplotlib.pyplot as plt"
   ]
  },
  {
   "cell_type": "markdown",
   "metadata": {},
   "source": [
    "## 通过pandas导入数据 "
   ]
  },
  {
   "cell_type": "code",
   "execution_count": null,
   "metadata": {},
   "outputs": [],
   "source": [
    "\n",
    "#读取数据文件\n",
    "\n",
    "df = pd.read_csv(\"F:\\Jupyter/tensorflow/MLR/data/boston.csv\",header = 0)\n",
    "\n",
    "#显示数据摘要描述信息\n",
    "print(df.describe())\n"
   ]
  },
  {
   "cell_type": "markdown",
   "metadata": {},
   "source": [
    "## 数据准备"
   ]
  },
  {
   "cell_type": "code",
   "execution_count": null,
   "metadata": {},
   "outputs": [],
   "source": [
    "#获取df的值\n",
    "df = df.values\n",
    "\n",
    "print(df)"
   ]
  },
  {
   "cell_type": "code",
   "execution_count": null,
   "metadata": {},
   "outputs": [],
   "source": [
    "#把 values格式转换成numpy的数组\n",
    "\n",
    "df = np.array(df)\n",
    "print(df)"
   ]
  },
  {
   "cell_type": "markdown",
   "metadata": {},
   "source": [
    "## 数据特征归一化"
   ]
  },
  {
   "cell_type": "code",
   "execution_count": null,
   "metadata": {},
   "outputs": [],
   "source": [
    "# 对特征数据【0到11】列做（0-1）的归一化\n",
    "\n",
    "for i in range(12):\n",
    "    df[:, i] = (df[:, i] - df[:, i].min()) /(df[:, i].max() - df[:, i].min())"
   ]
  },
  {
   "cell_type": "code",
   "execution_count": null,
   "metadata": {},
   "outputs": [],
   "source": [
    "# x_data 为前12列的特征数据\n",
    "\n",
    "x_data = df[:,:12]\n",
    "# y_data 为最后一列标签数据\n",
    "y_data = df[:,12]"
   ]
  },
  {
   "cell_type": "code",
   "execution_count": null,
   "metadata": {},
   "outputs": [],
   "source": [
    "print(x_data, '\\n shape=', x_data.shape)"
   ]
  },
  {
   "cell_type": "code",
   "execution_count": null,
   "metadata": {},
   "outputs": [],
   "source": [
    "print(y_data, '\\n shape=', y_data.shape)"
   ]
  },
  {
   "cell_type": "markdown",
   "metadata": {},
   "source": [
    "## 模型建立"
   ]
  },
  {
   "cell_type": "markdown",
   "metadata": {},
   "source": [
    "### 定义特征数据和标签数据的占位符"
   ]
  },
  {
   "cell_type": "code",
   "execution_count": null,
   "metadata": {},
   "outputs": [],
   "source": [
    "#12个特征数据（12列）None表示行数不定，列数为12\n",
    "\n",
    "x = tf.placeholder(tf.float32, [None, 12], name = \"X\")\n",
    "\n",
    "#1个标签数据\n",
    "y = tf.placeholder(tf.float32, [None, 1], name = \"Y\")"
   ]
  },
  {
   "cell_type": "markdown",
   "metadata": {},
   "source": [
    "### 定义模型函数"
   ]
  },
  {
   "cell_type": "code",
   "execution_count": null,
   "metadata": {},
   "outputs": [],
   "source": [
    "#定义一个命名空间\n",
    "with tf.name_scope(\"Model\"):\n",
    "    w = tf.Variable(tf.random_normal([12, 1], stddev = 0.01), name = \"W\")\n",
    "    b = tf.Variable(1.0, name = \"b\")\n",
    "    def model(x,w,b):\n",
    "        return tf.matmul(x, w) + b\n",
    "    pred = model(x, w, b)\n",
    "    \n",
    "    \n",
    "    \n",
    "#给模型下的语句定义了一个命名空间，相当于打包在一起，计算图中会显示一个节点\n"
   ]
  },
  {
   "cell_type": "markdown",
   "metadata": {},
   "source": [
    "## 3 训练模型 "
   ]
  },
  {
   "cell_type": "markdown",
   "metadata": {},
   "source": [
    "### 设置模型训练超参数 "
   ]
  },
  {
   "cell_type": "code",
   "execution_count": null,
   "metadata": {},
   "outputs": [],
   "source": [
    "train_epochs = 50\n",
    "learning_rate = 0.01"
   ]
  },
  {
   "cell_type": "markdown",
   "metadata": {},
   "source": [
    "### 定义损失函数&优化器"
   ]
  },
  {
   "cell_type": "code",
   "execution_count": null,
   "metadata": {},
   "outputs": [],
   "source": [
    "with tf.name_scope(\"LossFunction\"):\n",
    "    loss_function = tf.reduce_mean(tf.pow(y-pred, 2))\n",
    "    \n",
    "optimizer = tf.train.GradientDescentOptimizer(learning_rate).minimize(loss_function)"
   ]
  },
  {
   "cell_type": "code",
   "execution_count": null,
   "metadata": {},
   "outputs": [],
   "source": [
    "###定义会话，初始化变量\n",
    "\n",
    "sess = tf.Session()\n",
    "\n",
    "init = tf.global_variables_initializer()\n",
    "sess.run(init)"
   ]
  },
  {
   "cell_type": "markdown",
   "metadata": {},
   "source": [
    "### 迭代训练"
   ]
  },
  {
   "cell_type": "code",
   "execution_count": null,
   "metadata": {},
   "outputs": [],
   "source": [
    "for epoch in range(train_epochs):\n",
    "    loss_sum = 0.0\n",
    "    for xs, ys in zip(x_data, y_data):\n",
    "        xs = xs.reshape(1 ,12)\n",
    "        ys = ys.reshape(1, 1)\n",
    "        \n",
    "        _, loss = sess.run([optimizer, loss_function], feed_dict={x: xs,y: ys})\n",
    "        loss_sum = loss_sum + loss\n",
    "    x_data,y_data = shuffle(x_data, y_data)\n",
    "    \n",
    "    b0temp = b.eval(session=sess)\n",
    "    w0temp = w.eval(session=sess)\n",
    "    loss_average = loss_sum/len(y_data)\n",
    "    print(\"epoch=\", epoch+1, \"loss=\", loss_average, \"b=\", b0temp, \"w=\", w0temp)\n",
    "    "
   ]
  },
  {
   "cell_type": "markdown",
   "metadata": {},
   "source": [
    "##  模型预测结果"
   ]
  },
  {
   "cell_type": "code",
   "execution_count": null,
   "metadata": {},
   "outputs": [],
   "source": [
    "n = np.random.randint(506) #随机选择一组数据来验证\n",
    "print(n)\n",
    "x_test = x_data[n]\n",
    "\n",
    "x_test = x_test.reshape(1,12)     #此处的x_test一定不能为x_data，\n",
    "                                  #每次x_data进行一次x_data[n]的操作后，\n",
    "                                  #会成为一个一行12列的数组\n",
    "predict = sess.run(pred, feed_dict={x:x_test})\n",
    "\n",
    "print(\"预测值：%f\" %predict)\n",
    "target = y_data[n]\n",
    "print(\"实际值：%f\" %target)\n",
    "\n",
    "error = abs(predict-target)/target\n",
    "print(\"误差：%f\" %error)"
   ]
  }
 ],
 "metadata": {
  "kernelspec": {
   "display_name": "Python 3",
   "language": "python",
   "name": "python3"
  },
  "language_info": {
   "codemirror_mode": {
    "name": "ipython",
    "version": 3
   },
   "file_extension": ".py",
   "mimetype": "text/x-python",
   "name": "python",
   "nbconvert_exporter": "python",
   "pygments_lexer": "ipython3",
   "version": "3.6.5"
  }
 },
 "nbformat": 4,
 "nbformat_minor": 2
}
